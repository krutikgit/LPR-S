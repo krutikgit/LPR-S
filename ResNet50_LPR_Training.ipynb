{
  "cells": [
    {
      "cell_type": "markdown",
      "metadata": {
        "id": "GxW3Qg-ScurV"
      },
      "source": [
        "#### This notebook is used to train a character recongition from input image using MobileNets "
      ]
    },
    {
      "cell_type": "code",
      "source": [
        "!pip install keras"
      ],
      "metadata": {
        "colab": {
          "base_uri": "https://localhost:8080/"
        },
        "id": "5a31HXytsdig",
        "outputId": "17f527f8-3195-48db-d851-61d4b814b934"
      },
      "execution_count": null,
      "outputs": [
        {
          "output_type": "stream",
          "name": "stdout",
          "text": [
            "Requirement already satisfied: keras in /usr/local/lib/python3.7/dist-packages (2.8.0)\n"
          ]
        }
      ]
    },
    {
      "cell_type": "code",
      "source": [
        "!pip install sklearn"
      ],
      "metadata": {
        "colab": {
          "base_uri": "https://localhost:8080/"
        },
        "id": "69EMMuVnxcaf",
        "outputId": "42c5ad8b-a977-4dd8-a2ad-5bd0d3da8a41"
      },
      "execution_count": null,
      "outputs": [
        {
          "output_type": "stream",
          "name": "stdout",
          "text": [
            "Requirement already satisfied: sklearn in /usr/local/lib/python3.7/dist-packages (0.0)\n",
            "Requirement already satisfied: scikit-learn in /usr/local/lib/python3.7/dist-packages (from sklearn) (1.0.2)\n",
            "Requirement already satisfied: scipy>=1.1.0 in /usr/local/lib/python3.7/dist-packages (from scikit-learn->sklearn) (1.4.1)\n",
            "Requirement already satisfied: threadpoolctl>=2.0.0 in /usr/local/lib/python3.7/dist-packages (from scikit-learn->sklearn) (3.1.0)\n",
            "Requirement already satisfied: numpy>=1.14.6 in /usr/local/lib/python3.7/dist-packages (from scikit-learn->sklearn) (1.21.5)\n",
            "Requirement already satisfied: joblib>=0.11 in /usr/local/lib/python3.7/dist-packages (from scikit-learn->sklearn) (1.1.0)\n"
          ]
        }
      ]
    },
    {
      "cell_type": "code",
      "source": [
        "import tensorflow as tf"
      ],
      "metadata": {
        "id": "vK55hazguVfc"
      },
      "execution_count": null,
      "outputs": []
    },
    {
      "cell_type": "code",
      "execution_count": null,
      "metadata": {
        "id": "XJmrQrB_curX"
      },
      "outputs": [],
      "source": [
        "# ignore warning \n",
        "import os\n",
        "os.environ['TF_CPP_MIN_LOG_LEVEL'] = '3'\n",
        "\n",
        "from keras.preprocessing.image import ImageDataGenerator\n",
        "from tensorflow.keras.applications.resnet50 import ResNet50\n",
        "from keras.layers import AveragePooling2D\n",
        "from keras.layers import Dropout\n",
        "from keras.layers import Flatten\n",
        "from keras.layers import Dense\n",
        "from keras.layers import Input\n",
        "from keras.models import Model\n",
        "from tensorflow.keras.optimizers import Adam\n",
        "from keras.preprocessing.image import img_to_array\n",
        "from keras.preprocessing.image import load_img\n",
        "from tensorflow.keras.utils import to_categorical\n",
        "from keras.callbacks import ModelCheckpoint, EarlyStopping\n",
        "from keras.models import model_from_json\n",
        "from sklearn.preprocessing import LabelEncoder\n",
        "from sklearn.model_selection import train_test_split\n",
        "import matplotlib.pyplot as plt\n",
        "import matplotlib.gridspec as gridspec\n",
        "import glob\n",
        "import numpy as np"
      ]
    },
    {
      "cell_type": "code",
      "source": [
        "gpu_info = !nvidia-smi\n",
        "gpu_info = '\\n'.join(gpu_info)\n",
        "if gpu_info.find('failed') >= 0:\n",
        "  print('Not connected to a GPU')\n",
        "else:\n",
        "  print(gpu_info)"
      ],
      "metadata": {
        "id": "OiEatycif261",
        "outputId": "83479fb4-1939-4046-cc5c-52d3d1fe1430",
        "colab": {
          "base_uri": "https://localhost:8080/"
        }
      },
      "execution_count": null,
      "outputs": [
        {
          "output_type": "stream",
          "name": "stdout",
          "text": [
            "Mon Mar 28 12:23:07 2022       \n",
            "+-----------------------------------------------------------------------------+\n",
            "| NVIDIA-SMI 460.32.03    Driver Version: 460.32.03    CUDA Version: 11.2     |\n",
            "|-------------------------------+----------------------+----------------------+\n",
            "| GPU  Name        Persistence-M| Bus-Id        Disp.A | Volatile Uncorr. ECC |\n",
            "| Fan  Temp  Perf  Pwr:Usage/Cap|         Memory-Usage | GPU-Util  Compute M. |\n",
            "|                               |                      |               MIG M. |\n",
            "|===============================+======================+======================|\n",
            "|   0  Tesla T4            Off  | 00000000:00:04.0 Off |                    0 |\n",
            "| N/A   35C    P8    10W /  70W |      0MiB / 15109MiB |      0%      Default |\n",
            "|                               |                      |                  N/A |\n",
            "+-------------------------------+----------------------+----------------------+\n",
            "                                                                               \n",
            "+-----------------------------------------------------------------------------+\n",
            "| Processes:                                                                  |\n",
            "|  GPU   GI   CI        PID   Type   Process name                  GPU Memory |\n",
            "|        ID   ID                                                   Usage      |\n",
            "|=============================================================================|\n",
            "|  No running processes found                                                 |\n",
            "+-----------------------------------------------------------------------------+\n"
          ]
        }
      ]
    },
    {
      "cell_type": "code",
      "source": [
        "from google.colab import drive\n",
        "drive.mount('/content/drive')"
      ],
      "metadata": {
        "colab": {
          "base_uri": "https://localhost:8080/"
        },
        "id": "Qzp6pRPYlBQF",
        "outputId": "3e51fe4b-0566-462a-8d6c-5ece95a1643b"
      },
      "execution_count": null,
      "outputs": [
        {
          "output_type": "stream",
          "name": "stdout",
          "text": [
            "Drive already mounted at /content/drive; to attempt to forcibly remount, call drive.mount(\"/content/drive\", force_remount=True).\n"
          ]
        }
      ]
    },
    {
      "cell_type": "markdown",
      "metadata": {
        "id": "z8ApWHt8curj"
      },
      "source": [
        "### Visualize dataset"
      ]
    },
    {
      "cell_type": "code",
      "execution_count": null,
      "metadata": {
        "colab": {
          "base_uri": "https://localhost:8080/",
          "height": 479
        },
        "id": "-y1mnjyPcurk",
        "outputId": "435a8b4d-2577-4b85-dc11-b58413c43d96",
        "scrolled": false
      },
      "outputs": [
        {
          "output_type": "display_data",
          "data": {
            "text/plain": [
              "<Figure size 720x576 with 12 Axes>"
            ],
            "image/png": "[encoded data removed]"
          },
          "metadata": {
            "needs_background": "light"
          }
        }
      ],
      "source": [
        "dataset_paths = glob.glob(\"drive/MyDrive/dataset_characters/**/*.jpg\")\n",
        "\n",
        "cols=4\n",
        "rows=3\n",
        "fig = plt.figure(figsize=(10,8))\n",
        "plt.rcParams.update({\"font.size\":14})\n",
        "grid = gridspec.GridSpec(ncols=cols,nrows=rows,figure=fig)\n",
        "\n",
        "# create a random list of images will be displayed\n",
        "np.random.seed(45)\n",
        "rand = np.random.randint(0,len(dataset_paths),size=(cols*rows))\n",
        "\n",
        "# Plot image\n",
        "for i in range(cols*rows):\n",
        "    fig.add_subplot(grid[i])\n",
        "    image = load_img(dataset_paths[rand[i]])\n",
        "    label = dataset_paths[rand[i]].split(os.path.sep)[-2]\n",
        "    plt.title('\"{:s}\"'.format(label))\n",
        "    plt.axis(False)\n",
        "    plt.imshow(image)\n",
        "\n",
        "plt.savefig(\"Visualize_dataset.jpg\",dpi=300)    \n"
      ]
    },
    {
      "cell_type": "markdown",
      "metadata": {
        "id": "LJzYBWt3bzAj"
      },
      "source": [
        "## Data pre-processing"
      ]
    },
    {
      "cell_type": "code",
      "execution_count": null,
      "metadata": {
        "id": "Yh443FGFRgFP",
        "colab": {
          "base_uri": "https://localhost:8080/"
        },
        "outputId": "2a15120f-febc-41cf-8d8b-f7ee7f9ae6f5"
      },
      "outputs": [
        {
          "output_type": "stream",
          "name": "stdout",
          "text": [
            "[INFO] Find 37633 images with 36 classes\n"
          ]
        }
      ],
      "source": [
        "X=[]\n",
        "labels=[]\n",
        "\n",
        "for image_path in dataset_paths:\n",
        "  label = image_path.split(os.path.sep)[-2]\n",
        "  image=load_img(image_path,target_size=(80,80))\n",
        "  image=img_to_array(image)\n",
        "\n",
        "  X.append(image)\n",
        "  labels.append(label)\n",
        "\n",
        "X = np.array(X,dtype=\"float16\")\n",
        "labels = np.array(labels)\n",
        "\n",
        "print(\"[INFO] Find {:d} images with {:d} classes\".format(len(X),len(set(labels))))\n",
        "\n",
        "\n",
        "# perform one-hot encoding on the labels\n",
        "lb = LabelEncoder()\n",
        "lb.fit(labels)\n",
        "labels = lb.transform(labels)\n",
        "y = to_categorical(labels)\n",
        "\n",
        "# save label file so we can use in another script\n",
        "np.save('license_character_classes.npy', lb.classes_)"
      ]
    },
    {
      "cell_type": "code",
      "execution_count": null,
      "metadata": {
        "id": "AOHM-oeWSsPd"
      },
      "outputs": [],
      "source": [
        "# split 10% of data as validation set\n",
        "(trainX, testX, trainY, testY) = train_test_split(X, y, test_size=0.10, stratify=y, random_state=42)"
      ]
    },
    {
      "cell_type": "code",
      "execution_count": null,
      "metadata": {
        "id": "1DfUhlOTcurq"
      },
      "outputs": [],
      "source": [
        "# data augumentation\n",
        "image_gen = ImageDataGenerator(rotation_range=10,\n",
        "                              width_shift_range=0.1,\n",
        "                              height_shift_range=0.1,\n",
        "                              shear_range=0.1,\n",
        "                              zoom_range=0.1,\n",
        "                              fill_mode=\"nearest\"\n",
        "                              )"
      ]
    },
    {
      "cell_type": "markdown",
      "metadata": {
        "id": "vNMFc03Mb45i"
      },
      "source": [
        "## Initialize ResNet50 architecture with pre-trained weight"
      ]
    },
    {
      "cell_type": "code",
      "execution_count": null,
      "metadata": {
        "id": "AaemgepFcur0"
      },
      "outputs": [],
      "source": [
        "# Create our model with pre-trained Resnet50 architecture from imagenet\n",
        "def create_model(lr=1e-4,decay=1e-4/25, training=False,output_shape=y.shape[1]):\n",
        "    baseModel = ResNet50(weights=\"imagenet\", \n",
        "                            include_top=False,\n",
        "                            input_tensor=Input(shape=(80, 80, 3)))\n",
        "\n",
        "    headModel = baseModel.output\n",
        "    headModel = AveragePooling2D(pool_size=(3, 3))(headModel)\n",
        "    headModel = Flatten(name=\"flatten\")(headModel)\n",
        "    headModel = Dense(128, activation=\"relu\")(headModel)\n",
        "    headModel = Dropout(0.5)(headModel)\n",
        "    headModel = Dense(output_shape, activation=\"softmax\")(headModel)\n",
        "    \n",
        "    model = Model(inputs=baseModel.input, outputs=headModel)\n",
        "    \n",
        "    if training:\n",
        "        # define trainable lalyer\n",
        "        for layer in baseModel.layers:\n",
        "            layer.trainable = True\n",
        "        # compile model\n",
        "        optimizer = Adam(lr=lr, decay = decay)\n",
        "        model.compile(loss=\"categorical_crossentropy\", optimizer=optimizer,metrics=[\"accuracy\"])    \n",
        "        \n",
        "    return model"
      ]
    },
    {
      "cell_type": "code",
      "execution_count": null,
      "metadata": {
        "id": "-B5O6zG_cur5",
        "colab": {
          "base_uri": "https://localhost:8080/"
        },
        "outputId": "0f74de7d-37fa-45bc-9c52-db64e0dfe82a"
      },
      "outputs": [
        {
          "output_type": "stream",
          "name": "stderr",
          "text": [
            "/usr/local/lib/python3.7/dist-packages/keras/optimizer_v2/adam.py:105: UserWarning: The `lr` argument is deprecated, use `learning_rate` instead.\n",
            "  super(Adam, self).__init__(name, **kwargs)\n"
          ]
        }
      ],
      "source": [
        "# initilaize initial hyperparameter\n",
        "INIT_LR = 1e-4\n",
        "EPOCHS = 30\n",
        "\n",
        "model = create_model(lr=INIT_LR, decay=INIT_LR/EPOCHS,training=True)"
      ]
    },
    {
      "cell_type": "code",
      "execution_count": null,
      "metadata": {
        "id": "4d4NQLwDcusA",
        "colab": {
          "base_uri": "https://localhost:8080/"
        },
        "outputId": "c1b69d36-5e30-485e-ad54-d93ddb8a1df8"
      },
      "outputs": [
        {
          "output_type": "stream",
          "name": "stdout",
          "text": [
            "Epoch 1/30\n",
            "529/529 [==============================] - ETA: 0s - loss: 0.8628 - accuracy: 0.7844\n",
            "Epoch 1: saving model to drive/MyDrive/Plate_detect/ResNet50_License_character_recognition.h5\n",
            "529/529 [==============================] - 76s 133ms/step - loss: 0.8628 - accuracy: 0.7844 - val_loss: 0.1941 - val_accuracy: 0.9503\n",
            "Epoch 2/30\n",
            "529/529 [==============================] - ETA: 0s - loss: 0.2685 - accuracy: 0.9296\n",
            "Epoch 2: saving model to drive/MyDrive/Plate_detect/ResNet50_License_character_recognition.h5\n",
            "529/529 [==============================] - 69s 131ms/step - loss: 0.2685 - accuracy: 0.9296 - val_loss: 0.1418 - val_accuracy: 0.9604\n",
            "Epoch 3/30\n",
            "529/529 [==============================] - ETA: 0s - loss: 0.2056 - accuracy: 0.9440\n",
            "Epoch 3: saving model to drive/MyDrive/Plate_detect/ResNet50_License_character_recognition.h5\n",
            "529/529 [==============================] - 69s 130ms/step - loss: 0.2056 - accuracy: 0.9440 - val_loss: 0.1315 - val_accuracy: 0.9620\n",
            "Epoch 4/30\n",
            "529/529 [==============================] - ETA: 0s - loss: 0.1684 - accuracy: 0.9546\n",
            "Epoch 4: saving model to drive/MyDrive/Plate_detect/ResNet50_License_character_recognition.h5\n",
            "529/529 [==============================] - 69s 130ms/step - loss: 0.1684 - accuracy: 0.9546 - val_loss: 0.1304 - val_accuracy: 0.9599\n",
            "Epoch 5/30\n",
            "529/529 [==============================] - ETA: 0s - loss: 0.1512 - accuracy: 0.9581\n",
            "Epoch 5: saving model to drive/MyDrive/Plate_detect/ResNet50_License_character_recognition.h5\n",
            "529/529 [==============================] - 70s 131ms/step - loss: 0.1512 - accuracy: 0.9581 - val_loss: 0.1366 - val_accuracy: 0.9594\n",
            "Epoch 6/30\n",
            "529/529 [==============================] - ETA: 0s - loss: 0.1352 - accuracy: 0.9623\n",
            "Epoch 6: saving model to drive/MyDrive/Plate_detect/ResNet50_License_character_recognition.h5\n",
            "529/529 [==============================] - 69s 130ms/step - loss: 0.1352 - accuracy: 0.9623 - val_loss: 0.0992 - val_accuracy: 0.9702\n",
            "Epoch 7/30\n",
            "529/529 [==============================] - ETA: 0s - loss: 0.1258 - accuracy: 0.9640\n",
            "Epoch 7: saving model to drive/MyDrive/Plate_detect/ResNet50_License_character_recognition.h5\n",
            "529/529 [==============================] - 69s 130ms/step - loss: 0.1258 - accuracy: 0.9640 - val_loss: 0.0994 - val_accuracy: 0.9657\n",
            "Epoch 8/30\n",
            "529/529 [==============================] - ETA: 0s - loss: 0.1144 - accuracy: 0.9660\n",
            "Epoch 8: saving model to drive/MyDrive/Plate_detect/ResNet50_License_character_recognition.h5\n",
            "529/529 [==============================] - 69s 131ms/step - loss: 0.1144 - accuracy: 0.9660 - val_loss: 0.0947 - val_accuracy: 0.9737\n",
            "Epoch 9/30\n",
            "529/529 [==============================] - ETA: 0s - loss: 0.1126 - accuracy: 0.9678\n",
            "Epoch 9: saving model to drive/MyDrive/Plate_detect/ResNet50_License_character_recognition.h5\n",
            "529/529 [==============================] - 69s 130ms/step - loss: 0.1126 - accuracy: 0.9678 - val_loss: 0.0961 - val_accuracy: 0.9718\n",
            "Epoch 10/30\n",
            "529/529 [==============================] - ETA: 0s - loss: 0.0960 - accuracy: 0.9710\n",
            "Epoch 10: saving model to drive/MyDrive/Plate_detect/ResNet50_License_character_recognition.h5\n",
            "529/529 [==============================] - 69s 130ms/step - loss: 0.0960 - accuracy: 0.9710 - val_loss: 0.0948 - val_accuracy: 0.9732\n",
            "Epoch 11/30\n",
            "529/529 [==============================] - ETA: 0s - loss: 0.0964 - accuracy: 0.9714\n",
            "Epoch 11: saving model to drive/MyDrive/Plate_detect/ResNet50_License_character_recognition.h5\n",
            "529/529 [==============================] - 69s 130ms/step - loss: 0.0964 - accuracy: 0.9714 - val_loss: 0.0797 - val_accuracy: 0.9732\n",
            "Epoch 12/30\n",
            "529/529 [==============================] - ETA: 0s - loss: 0.0849 - accuracy: 0.9754\n",
            "Epoch 12: saving model to drive/MyDrive/Plate_detect/ResNet50_License_character_recognition.h5\n",
            "529/529 [==============================] - 69s 130ms/step - loss: 0.0849 - accuracy: 0.9754 - val_loss: 0.0898 - val_accuracy: 0.9764\n",
            "Epoch 13/30\n",
            "529/529 [==============================] - ETA: 0s - loss: 0.0872 - accuracy: 0.9741\n",
            "Epoch 13: saving model to drive/MyDrive/Plate_detect/ResNet50_License_character_recognition.h5\n",
            "529/529 [==============================] - 69s 130ms/step - loss: 0.0872 - accuracy: 0.9741 - val_loss: 0.0717 - val_accuracy: 0.9779\n",
            "Epoch 14/30\n",
            "529/529 [==============================] - ETA: 0s - loss: 0.0755 - accuracy: 0.9767\n",
            "Epoch 14: saving model to drive/MyDrive/Plate_detect/ResNet50_License_character_recognition.h5\n",
            "529/529 [==============================] - 69s 130ms/step - loss: 0.0755 - accuracy: 0.9767 - val_loss: 0.1568 - val_accuracy: 0.9681\n",
            "Epoch 15/30\n",
            "529/529 [==============================] - ETA: 0s - loss: 0.0810 - accuracy: 0.9755\n",
            "Epoch 15: saving model to drive/MyDrive/Plate_detect/ResNet50_License_character_recognition.h5\n",
            "529/529 [==============================] - 69s 130ms/step - loss: 0.0810 - accuracy: 0.9755 - val_loss: 0.0914 - val_accuracy: 0.9745\n",
            "Epoch 16/30\n",
            "529/529 [==============================] - ETA: 0s - loss: 0.0708 - accuracy: 0.9779\n",
            "Epoch 16: saving model to drive/MyDrive/Plate_detect/ResNet50_License_character_recognition.h5\n",
            "529/529 [==============================] - 69s 130ms/step - loss: 0.0708 - accuracy: 0.9779 - val_loss: 0.0611 - val_accuracy: 0.9795\n",
            "Epoch 17/30\n",
            "529/529 [==============================] - ETA: 0s - loss: 0.0739 - accuracy: 0.9775\n",
            "Epoch 17: saving model to drive/MyDrive/Plate_detect/ResNet50_License_character_recognition.h5\n",
            "529/529 [==============================] - 69s 131ms/step - loss: 0.0739 - accuracy: 0.9775 - val_loss: 0.0670 - val_accuracy: 0.9782\n",
            "Epoch 18/30\n",
            "529/529 [==============================] - ETA: 0s - loss: 0.0739 - accuracy: 0.9774\n",
            "Epoch 18: saving model to drive/MyDrive/Plate_detect/ResNet50_License_character_recognition.h5\n",
            "529/529 [==============================] - 69s 130ms/step - loss: 0.0739 - accuracy: 0.9774 - val_loss: 0.0678 - val_accuracy: 0.9772\n",
            "Epoch 19/30\n",
            "529/529 [==============================] - ETA: 0s - loss: 0.0654 - accuracy: 0.9797\n",
            "Epoch 19: saving model to drive/MyDrive/Plate_detect/ResNet50_License_character_recognition.h5\n",
            "529/529 [==============================] - 69s 130ms/step - loss: 0.0654 - accuracy: 0.9797 - val_loss: 0.0836 - val_accuracy: 0.9777\n",
            "Epoch 20/30\n",
            "529/529 [==============================] - ETA: 0s - loss: 0.0624 - accuracy: 0.9806\n",
            "Epoch 20: saving model to drive/MyDrive/Plate_detect/ResNet50_License_character_recognition.h5\n",
            "529/529 [==============================] - 69s 130ms/step - loss: 0.0624 - accuracy: 0.9806 - val_loss: 0.0659 - val_accuracy: 0.9790\n",
            "Epoch 21/30\n",
            "529/529 [==============================] - ETA: 0s - loss: 0.0564 - accuracy: 0.9807\n",
            "Epoch 21: saving model to drive/MyDrive/Plate_detect/ResNet50_License_character_recognition.h5\n",
            "529/529 [==============================] - 69s 130ms/step - loss: 0.0564 - accuracy: 0.9807 - val_loss: 0.0644 - val_accuracy: 0.9803\n"
          ]
        }
      ],
      "source": [
        "BATCH_SIZE = 64\n",
        "\n",
        "my_checkpointer = [\n",
        "                EarlyStopping(monitor='val_loss', patience=5, verbose=0),\n",
        "                ModelCheckpoint(filepath=\"drive/MyDrive/Plate_detect/ResNet50_License_character_recognition.h5\", verbose=1, save_weights_only=True)\n",
        "                ]\n",
        "\n",
        "result = model.fit(image_gen.flow(trainX, trainY, batch_size=BATCH_SIZE), \n",
        "                   steps_per_epoch=len(trainX) // BATCH_SIZE, \n",
        "                   validation_data=(testX, testY), \n",
        "                   validation_steps=len(testX) // BATCH_SIZE, \n",
        "                   epochs=EPOCHS, callbacks=my_checkpointer)"
      ]
    },
    {
      "cell_type": "markdown",
      "metadata": {
        "id": "va-WvqTpcCJw"
      },
      "source": [
        "## Visualize training result"
      ]
    },
    {
      "cell_type": "code",
      "execution_count": null,
      "metadata": {
        "id": "qUYOQrVzcusF",
        "colab": {
          "base_uri": "https://localhost:8080/",
          "height": 379
        },
        "outputId": "115bc92a-2c06-4efc-ab6c-96626d4bc9ee"
      },
      "outputs": [
        {
          "output_type": "execute_result",
          "data": {
            "text/plain": [
              "<matplotlib.legend.Legend at 0x7fc79d750550>"
            ]
          },
          "metadata": {},
          "execution_count": 20
        },
        {
          "output_type": "display_data",
          "data": {
            "text/plain": [
              "<Figure size 1008x360 with 2 Axes>"
            ],
            "image/png": "[encoded data removed]"
          },
          "metadata": {
            "needs_background": "light"
          }
        }
      ],
      "source": [
        "\n",
        "fig = plt.figure(figsize=(14,5))\n",
        "grid=gridspec.GridSpec(ncols=2,nrows=1,figure=fig)\n",
        "fig.add_subplot(grid[0])\n",
        "plt.plot(result.history['accuracy'], label='training accuracy')\n",
        "plt.plot(result.history['val_accuracy'], label='val accuracy')\n",
        "plt.title('Accuracy')\n",
        "plt.xlabel('epochs')\n",
        "plt.ylabel('accuracy')\n",
        "plt.legend()\n",
        "\n",
        "fig.add_subplot(grid[1])\n",
        "plt.plot(result.history['loss'], label='training loss')\n",
        "plt.plot(result.history['val_loss'], label='val loss')\n",
        "plt.title('Loss')\n",
        "plt.xlabel('epochs')\n",
        "plt.ylabel('loss')\n",
        "plt.legend()\n",
        "\n",
        "#plt.savefig(\"Training_result.jpg\",dpi=300)"
      ]
    },
    {
      "cell_type": "code",
      "execution_count": null,
      "metadata": {
        "id": "w8JOq60Xw1UY"
      },
      "outputs": [],
      "source": [
        "# save model architectur as json file\n",
        "model_json = model.to_json()\n",
        "with open(\"ResNet50_epoch30_character_recognition.json\", \"w\") as json_file:\n",
        "  json_file.write(model_json)"
      ]
    }
  ],
  "metadata": {
    "accelerator": "GPU",
    "colab": {
      "provenance": [],
      "machine_shape": "hm"
    },
    "kernelspec": {
      "display_name": "Python 3",
      "language": "python",
      "name": "python3"
    },
    "language_info": {
      "codemirror_mode": {
        "name": "ipython",
        "version": 3
      },
      "file_extension": ".py",
      "mimetype": "text/x-python",
      "name": "python",
      "nbconvert_exporter": "python",
      "pygments_lexer": "ipython3",
      "version": "3.7.1"
    }
  },
  "nbformat": 4,
  "nbformat_minor": 0
}